{
 "cells": [
  {
   "cell_type": "code",
   "execution_count": 1,
   "metadata": {},
   "outputs": [
    {
     "name": "stdout",
     "output_type": "stream",
     "text": [
      "Index(['Pregnancies', 'Glucose', 'BloodPressure', 'SkinThickness', 'Insulin',\n",
      "       'BMI', 'DiabetesPedigreeFunction', 'Age', 'Outcome'],\n",
      "      dtype='object')\n"
     ]
    }
   ],
   "source": [
    "#-*- coding:utf-8 -*-\n",
    "import pandas as pd\n",
    "import numpy as np\n",
    "import matplotlib.pyplot as plt\n",
    "%matplotlib inline\n",
    "diabetes=pd.read_csv(r'C:\\Users\\Administrator\\Desktop\\diabetes\\Machine-Learning-with-Python-master\\diabetes.csv')\n",
    "print(diabetes.columns)"
   ]
  },
  {
   "cell_type": "code",
   "execution_count": 2,
   "metadata": {},
   "outputs": [
    {
     "data": {
      "text/html": [
       "<div>\n",
       "<style scoped>\n",
       "    .dataframe tbody tr th:only-of-type {\n",
       "        vertical-align: middle;\n",
       "    }\n",
       "\n",
       "    .dataframe tbody tr th {\n",
       "        vertical-align: top;\n",
       "    }\n",
       "\n",
       "    .dataframe thead th {\n",
       "        text-align: right;\n",
       "    }\n",
       "</style>\n",
       "<table border=\"1\" class=\"dataframe\">\n",
       "  <thead>\n",
       "    <tr style=\"text-align: right;\">\n",
       "      <th></th>\n",
       "      <th>Pregnancies</th>\n",
       "      <th>Glucose</th>\n",
       "      <th>BloodPressure</th>\n",
       "      <th>SkinThickness</th>\n",
       "      <th>Insulin</th>\n",
       "      <th>BMI</th>\n",
       "      <th>DiabetesPedigreeFunction</th>\n",
       "      <th>Age</th>\n",
       "      <th>Outcome</th>\n",
       "    </tr>\n",
       "  </thead>\n",
       "  <tbody>\n",
       "    <tr>\n",
       "      <th>0</th>\n",
       "      <td>6</td>\n",
       "      <td>148</td>\n",
       "      <td>72</td>\n",
       "      <td>35</td>\n",
       "      <td>0</td>\n",
       "      <td>33.6</td>\n",
       "      <td>0.627</td>\n",
       "      <td>50</td>\n",
       "      <td>1</td>\n",
       "    </tr>\n",
       "    <tr>\n",
       "      <th>1</th>\n",
       "      <td>1</td>\n",
       "      <td>85</td>\n",
       "      <td>66</td>\n",
       "      <td>29</td>\n",
       "      <td>0</td>\n",
       "      <td>26.6</td>\n",
       "      <td>0.351</td>\n",
       "      <td>31</td>\n",
       "      <td>0</td>\n",
       "    </tr>\n",
       "    <tr>\n",
       "      <th>2</th>\n",
       "      <td>8</td>\n",
       "      <td>183</td>\n",
       "      <td>64</td>\n",
       "      <td>0</td>\n",
       "      <td>0</td>\n",
       "      <td>23.3</td>\n",
       "      <td>0.672</td>\n",
       "      <td>32</td>\n",
       "      <td>1</td>\n",
       "    </tr>\n",
       "    <tr>\n",
       "      <th>3</th>\n",
       "      <td>1</td>\n",
       "      <td>89</td>\n",
       "      <td>66</td>\n",
       "      <td>23</td>\n",
       "      <td>94</td>\n",
       "      <td>28.1</td>\n",
       "      <td>0.167</td>\n",
       "      <td>21</td>\n",
       "      <td>0</td>\n",
       "    </tr>\n",
       "    <tr>\n",
       "      <th>4</th>\n",
       "      <td>0</td>\n",
       "      <td>137</td>\n",
       "      <td>40</td>\n",
       "      <td>35</td>\n",
       "      <td>168</td>\n",
       "      <td>43.1</td>\n",
       "      <td>2.288</td>\n",
       "      <td>33</td>\n",
       "      <td>1</td>\n",
       "    </tr>\n",
       "  </tbody>\n",
       "</table>\n",
       "</div>"
      ],
      "text/plain": [
       "   Pregnancies  Glucose  BloodPressure  SkinThickness  Insulin   BMI  \\\n",
       "0            6      148             72             35        0  33.6   \n",
       "1            1       85             66             29        0  26.6   \n",
       "2            8      183             64              0        0  23.3   \n",
       "3            1       89             66             23       94  28.1   \n",
       "4            0      137             40             35      168  43.1   \n",
       "\n",
       "   DiabetesPedigreeFunction  Age  Outcome  \n",
       "0                     0.627   50        1  \n",
       "1                     0.351   31        0  \n",
       "2                     0.672   32        1  \n",
       "3                     0.167   21        0  \n",
       "4                     2.288   33        1  "
      ]
     },
     "execution_count": 2,
     "metadata": {},
     "output_type": "execute_result"
    }
   ],
   "source": [
    "diabetes.head()"
   ]
  },
  {
   "cell_type": "code",
   "execution_count": 3,
   "metadata": {},
   "outputs": [
    {
     "name": "stdout",
     "output_type": "stream",
     "text": [
      "Outcome\n",
      "0    500\n",
      "1    268\n",
      "dtype: int64\n"
     ]
    }
   ],
   "source": [
    "#“结果”是我们将要预测的特征，0意味着未患糖尿病，1意味着患有糖尿病。在768个数据点中，500个被标记为0,268个标记为1。\n",
    "print(diabetes.groupby('Outcome').size())"
   ]
  },
  {
   "cell_type": "code",
   "execution_count": 4,
   "metadata": {},
   "outputs": [
    {
     "name": "stdout",
     "output_type": "stream",
     "text": [
      "dimennsion of diabetes data:(768, 9)\n"
     ]
    }
   ],
   "source": [
    "#显示数据的维度\n",
    "print(\"dimennsion of diabetes data:{}\".format(diabetes.shape))"
   ]
  },
  {
   "cell_type": "code",
   "execution_count": 5,
   "metadata": {},
   "outputs": [
    {
     "data": {
      "text/plain": [
       "<matplotlib.axes._subplots.AxesSubplot at 0x99182b0>"
      ]
     },
     "execution_count": 5,
     "metadata": {},
     "output_type": "execute_result"
    },
    {
     "data": {
      "image/png": "[encoded data removed]",
      "text/plain": [
       "<Figure size 432x288 with 1 Axes>"
      ]
     },
     "metadata": {},
     "output_type": "display_data"
    }
   ],
   "source": [
    "import seaborn as sns\n",
    "sns.countplot(diabetes['Outcome'],label=\"Count\")"
   ]
  },
  {
   "cell_type": "code",
   "execution_count": 7,
   "metadata": {},
   "outputs": [
    {
     "name": "stdout",
     "output_type": "stream",
     "text": [
      "<class 'pandas.core.frame.DataFrame'>\n",
      "RangeIndex: 768 entries, 0 to 767\n",
      "Data columns (total 9 columns):\n",
      "Pregnancies                 768 non-null int64\n",
      "Glucose                     768 non-null int64\n",
      "BloodPressure               768 non-null int64\n",
      "SkinThickness               768 non-null int64\n",
      "Insulin                     768 non-null int64\n",
      "BMI                         768 non-null float64\n",
      "DiabetesPedigreeFunction    768 non-null float64\n",
      "Age                         768 non-null int64\n",
      "Outcome                     768 non-null int64\n",
      "dtypes: float64(2), int64(7)\n",
      "memory usage: 54.1 KB\n"
     ]
    }
   ],
   "source": [
    "diabetes.info()"
   ]
  },
  {
   "cell_type": "code",
   "execution_count": 70,
   "metadata": {},
   "outputs": [
    {
     "data": {
      "image/png": "[encoded data removed]",
      "text/plain": [
       "<Figure size 432x288 with 1 Axes>"
      ]
     },
     "metadata": {},
     "output_type": "display_data"
    }
   ],
   "source": [
    "#首先用knn研究一下是否能够确认模型的复杂度和精确度之间的关系\n",
    "from sklearn.model_selection import train_test_split\n",
    "x_train,x_test,y_train,y_test=train_test_split(diabetes.loc[:,diabetes.columns !='Outcome'],diabetes['Outcome'],stratify=diabetes['Outcome'],random_state=66)\n",
    "from sklearn.neighbors import KNeighborsClassifier\n",
    "training_accuracy=[]\n",
    "test_accuracy=[]\n",
    "#try n_neighbors from 1 to 10\n",
    "neighbors_settings=range(1,11)\n",
    " \n",
    "for n_neighbors in neighbors_settings:\n",
    "    #build the model\n",
    "    knn=KNeighborsClassifier(n_neighbors=n_neighbors)\n",
    "    knn.fit(x_train,y_train)\n",
    "    #record training set accuracy\n",
    "    training_accuracy.append(knn.score(x_train,y_train))\n",
    "    #record test set accuracy\n",
    "    test_accuracy.append(knn.score(x_test,y_test))\n",
    "plt.plot(neighbors_settings,training_accuracy,label=\"training accuracy\")\n",
    "plt.plot(neighbors_settings,test_accuracy,label=\"test accuracy\")\n",
    "plt.ylabel(\"Accuracy\")\n",
    "plt.xlabel(\"n_neighbors\")\n",
    "plt.legend()\n",
    "plt.savefig('knn_compare_model')"
   ]
  },
  {
   "cell_type": "code",
   "execution_count": 73,
   "metadata": {},
   "outputs": [
    {
     "name": "stdout",
     "output_type": "stream",
     "text": [
      "Training set score:0.781\n",
      "Test set score:0.771\n"
     ]
    }
   ],
   "source": [
    "#逻辑回归算法\n",
    "#正则化参数C=1（默认值）的模型在训练集上准确度为78%，在测试集上准确度为77%。\n",
    "from sklearn. linear_model import LogisticRegression \n",
    "logreg=LogisticRegression(). fit(x_train,y_train)\n",
    "print(\"Training set score:{:.3f}\". format(logreg. score(x_train, y_train)))#精确到小数点后三位\n",
    "print(\"Test set score:{:.3f}\". format(logreg. score(x_test,y_test)))"
   ]
  },
  {
   "cell_type": "code",
   "execution_count": 74,
   "metadata": {},
   "outputs": [
    {
     "name": "stdout",
     "output_type": "stream",
     "text": [
      "Training set accuracy:0.785\n",
      "Test set accuracy:0.766\n"
     ]
    }
   ],
   "source": [
    "#而将正则化参数C设置为100时，模型在训练集上准确度稍有提高但测试集上准确度略降，\n",
    "#说明较少正则化和更复杂的模型并不一定会比默认参数模型的预测效果更好。\n",
    "#所以我们选择默认值C=1\n",
    "logreg100=LogisticRegression(C=100). fit(x_train,y_train)\n",
    "print(\"Training set accuracy:{:.3f}\". format(logreg100. score(x_train,y_train)))\n",
    "print(\"Test set accuracy:{:.3f}\". format(logreg100. score(x_test, y_test)))\n",
    "\n"
   ]
  },
  {
   "cell_type": "code",
   "execution_count": 77,
   "metadata": {},
   "outputs": [
    {
     "data": {
      "image/png": "[encoded data removed]",
      "text/plain": [
       "<Figure size 576x432 with 1 Axes>"
      ]
     },
     "metadata": {},
     "output_type": "display_data"
    }
   ],
   "source": [
    "#用可视化的方式来看一下用三种不同正则化参数C所得模型的系数。\n",
    "#更强的正则化(C = 0.001)会使系数越来越接近于零。仔细地看图，\n",
    "#我们还能发现特征“DiabetesPedigreeFunction”（糖尿病遗传函数）在 C=100, C=1 和C=0.001的情况下, 系数都为正。\n",
    "#这表明无论是哪个模型，DiabetesPedigreeFunction（糖尿病遗传函数）这个特征值都与样本为糖尿病是正相关的。\n",
    "diabetes_features=[x for i,x in enumerate(diabetes. columns) if i!=8]\n",
    "plt. figure(figsize=(8,6))\n",
    "plt. plot(logreg. coef_.T,'o', label=\"C=1\")\n",
    "plt. plot(logreg100.coef_.T,'^', label=\"C=100\")\n",
    "plt. plot(logreg100.coef_.T,'v', label=\"C=0.001\")\n",
    "plt. xticks(range(diabetes. shape[1]), diabetes_features, rotation=90)\n",
    "plt. hlines(0,0, diabetes. shape[1])\n",
    "plt. ylim(-5,5)\n",
    "plt. xlabel(\"Feature\")\n",
    "plt. ylabel(\"Coefficient magnitude\")\n",
    "plt. legend()\n",
    "plt. savefig('1og_coef')\n",
    "\n",
    "\n"
   ]
  },
  {
   "cell_type": "code",
   "execution_count": 71,
   "metadata": {},
   "outputs": [
    {
     "name": "stdout",
     "output_type": "stream",
     "text": [
      "Accuracy on training set:1.000\n",
      "Accuracy on test set:0.714\n"
     ]
    }
   ],
   "source": [
    "#决策树算法\n",
    "from sklearn.tree import DecisionTreeClassifier \n",
    "tree=DecisionTreeClassifier(random_state=0)\n",
    "tree. fit(x_train,y_train)\n",
    "print(\"Accuracy on training set:{:.3f}\". format(tree. score(x_train, y_train)))\n",
    "print(\"Accuracy on test set:{:.3f}\". format(tree. score(x_test, y_test)))"
   ]
  },
  {
   "cell_type": "code",
   "execution_count": 12,
   "metadata": {},
   "outputs": [
    {
     "name": "stdout",
     "output_type": "stream",
     "text": [
      "Accuracy on training set:0.773\n",
      "Accuracy on test set:0.740\n"
     ]
    }
   ],
   "source": [
    "#训练集的准确度可以高达100%，而测试集的准确度相对就差了很多。这表明决策树是过度拟合的，不能对新数据产生好的效果。\n",
    "#因此，我们需要对树进行预剪枝。\n",
    "#我们设置max_depth=3，限制树的深度以减少过拟合。这会使训练集的准确度降低，但测试集准确度提高。\n",
    "tree=DecisionTreeClassifier(max_depth=3, random_state=0)\n",
    "tree. fit(x_train,y_train)\n",
    "print(\"Accuracy on training set:{:.3f}\". format(tree. score(x_train, y_train)))\n",
    "print(\"Accuracy on test set:{:.3f}\". format(tree. score(x_test, y_test)))"
   ]
  },
  {
   "cell_type": "code",
   "execution_count": 13,
   "metadata": {},
   "outputs": [
    {
     "name": "stdout",
     "output_type": "stream",
     "text": [
      "Feature importances:\n",
      "[0.04554275 0.6830362  0.         0.         0.         0.27142106\n",
      " 0.         0.        ]\n"
     ]
    }
   ],
   "source": [
    "#决策树中特征重要度, 决策树中的特征重要度是用来衡量每个特征对于预测结果的重要性的。\n",
    "#对每个特征有一个从0到1的打分，0表示“一点也没用”，1表示“完美预测”。各特征的重要度加和一定是为1的。\n",
    "print(\"Feature importances:\\n{}\". format(tree. feature_importances_))"
   ]
  },
  {
   "cell_type": "code",
   "execution_count": 72,
   "metadata": {},
   "outputs": [
    {
     "data": {
      "image/png": "[encoded data removed]",
      "text/plain": [
       "<Figure size 576x432 with 1 Axes>"
      ]
     },
     "metadata": {},
     "output_type": "display_data"
    }
   ],
   "source": [
    "#可视化特征重要度，可以从图中看出，血糖是最重要的特征\n",
    "#diabetes_features=[x for i,x in enumerate(diabetes.columns) if i!=8]\n",
    "def plot_feature_importances_diabetes(model):\n",
    "    plt.figure(figsize=(8,6))\n",
    "    n_features = 8\n",
    "    plt.barh(range(n_features), model.feature_importances_,align ='center')\n",
    "    #plt.barh(range(n_features), model.feature_importances_,align='center')\n",
    "    plt.yticks(np.arange(n_features), diabetes_features)\n",
    "    plt.xlabel(\"Feature importance\")\n",
    "    plt.ylabel(\"Feature\")\n",
    "    plt.ylim(-1,n_features)\n",
    "plot_feature_importances_diabetes(tree)\n",
    "plt. savefig(' feature_importance')"
   ]
  },
  {
   "cell_type": "code",
   "execution_count": 28,
   "metadata": {},
   "outputs": [
    {
     "name": "stdout",
     "output_type": "stream",
     "text": [
      "Accuracy on training set:1.000\n",
      "Accuracy on test set:0.786\n"
     ]
    }
   ],
   "source": [
    "#再用随机森林算法进行研究\n",
    "from sklearn. ensemble import RandomForestClassifier \n",
    "rf=RandomForestClassifier(n_estimators=100, random_state=0)\n",
    "rf. fit(x_train,y_train)\n",
    "print(\"Accuracy on training set:{:.3f}\". format(rf. score(x_train, y_train)))\n",
    "print(\"Accuracy on test set:{:.3f}\". format(rf. score(x_test, y_test)))"
   ]
  },
  {
   "cell_type": "code",
   "execution_count": 29,
   "metadata": {},
   "outputs": [
    {
     "name": "stdout",
     "output_type": "stream",
     "text": [
      "Accuracy on training set:0.800\n",
      "Accuracy on test set:0.755\n"
     ]
    }
   ],
   "source": [
    "#没有更改任何参数的随机森林有78.6%的准确度，比逻辑回归和单一决策树的预测效果更好。\n",
    "#再试试调整max_features设置，看看效果是否能够提高。\n",
    "#可以看到结果并没有提高，这表明默认参数的随机森林在这里效果很好。\n",
    "rf1=RandomForestClassifier(max_depth=3,n_estimators=100, random_state=0)\n",
    "rf1. fit(x_train,y_train)\n",
    "print(\"Accuracy on training set:{:.3f}\". format(rf1. score(x_train, y_train)))\n",
    "print(\"Accuracy on test set:{:.3f}\". format(rf1. score(x_test, y_test)))"
   ]
  },
  {
   "cell_type": "code",
   "execution_count": 31,
   "metadata": {},
   "outputs": [
    {
     "data": {
      "image/png": "[encoded data removed]",
      "text/plain": [
       "<Figure size 576x432 with 1 Axes>"
      ]
     },
     "metadata": {},
     "output_type": "display_data"
    }
   ],
   "source": [
    "#随机森林的特征重要度：\n",
    "#与单一决策树相似，随机森林的结果仍然显示特征“血糖”的重要度最高，\n",
    "#但是它也同样显示“BMI（身体质量指数）”在整体中是第二重要的信息特征。\n",
    "#随机森林的随机性促使算法考虑了更多可能的解释，这就导致随机森林捕获的数据比单一树要大得多。\n",
    "plot_feature_importances_diabetes(rf1)"
   ]
  },
  {
   "cell_type": "code",
   "execution_count": 40,
   "metadata": {},
   "outputs": [
    {
     "name": "stdout",
     "output_type": "stream",
     "text": [
      "Accuracy on training set:0.917\n",
      "Accuracy on test set:0.792\n"
     ]
    }
   ],
   "source": [
    "#梯度提升\n",
    "from sklearn. ensemble import GradientBoostingClassifier \n",
    "gb=GradientBoostingClassifier(random_state=0)\n",
    "gb. fit(x_train,y_train)\n",
    "print(\"Accuracy on training set:{:.3f}\". format(gb. score(x_train, y_train)))\n",
    "print(\"Accuracy on test set:{:.3f}\". format(gb. score(x_test, y_test)))"
   ]
  },
  {
   "cell_type": "code",
   "execution_count": 49,
   "metadata": {},
   "outputs": [
    {
     "name": "stdout",
     "output_type": "stream",
     "text": [
      "Accuracy on training set:0.804\n",
      "Accuracy on test set:0.781\n",
      "Accuracy on training set:0.802\n",
      "Accuracy on test set:0.776\n"
     ]
    }
   ],
   "source": [
    "#上述可能是过拟合了。为了降低这种过拟合，我们可以通过限制最大深度或降低学习速率来进行更强的修剪:\n",
    "#这里，我们限制最大深度为1\n",
    "gb1=GradientBoostingClassifier(random_state=0, max_depth=1)\n",
    "gb1. fit(x_train,y_train)\n",
    "print(\"Accuracy on training set:{:.3f}\". format(gb1. score(x_train, y_train)))\n",
    "print(\"Accuracy on test set:{:.3f}\". format(gb1. score(x_test, y_test)))\n",
    "#降低学习速率\n",
    "#如我们所期望的，两种降低模型复杂度的方法都降低了训练集的准确度。可是测试集的泛化性能并没有提高。\n",
    "\n",
    "gb2=GradientBoostingClassifier(random_state=0, learning_rate=0.01)\n",
    "gb2. fit(x_train,y_train)\n",
    "print(\"Accuracy on training set:{:.3f}\". format(gb2. score(x_train, y_train)))\n",
    "print(\"Accuracy on test set:{:.3f}\". format(gb2. score(x_test, y_test)))"
   ]
  },
  {
   "cell_type": "code",
   "execution_count": 50,
   "metadata": {},
   "outputs": [
    {
     "data": {
      "image/png": "[encoded data removed]",
      "text/plain": [
       "<Figure size 576x432 with 1 Axes>"
      ]
     },
     "metadata": {},
     "output_type": "display_data"
    }
   ],
   "source": [
    "#通过特征重要度的可视化来对模型做更进一步的了解。\n",
    "#我们可以看到，梯度提升树的特征重要度与随机森林的特征重要度有点类似，同时它给这个模型的所有特征赋了重要度值。\n",
    "plot_feature_importances_diabetes(gb1)"
   ]
  },
  {
   "cell_type": "code",
   "execution_count": 52,
   "metadata": {},
   "outputs": [
    {
     "name": "stdout",
     "output_type": "stream",
     "text": [
      "Accuracy on training set:1.00\n",
      "Accuracy on test set:0.65\n"
     ]
    }
   ],
   "source": [
    "#使用支持向量机算法\n",
    "#SVM模型过拟合比较明显，虽然在训练集中有一个完美的表现，但是在测试集中仅仅有65%的准确度。\n",
    "from sklearn.svm import SVC\n",
    "svc = SVC()\n",
    "svc.fit(x_train,y_train)\n",
    "print(\"Accuracy on training set:{:.2f}\". format(svc. score(x_train, y_train)))\n",
    "print(\"Accuracy on test set:{:.2f}\". format(svc. score(x_test, y_test)))"
   ]
  },
  {
   "cell_type": "code",
   "execution_count": 54,
   "metadata": {},
   "outputs": [
    {
     "name": "stdout",
     "output_type": "stream",
     "text": [
      "Accuracy on training set:0.77\n",
      "Accuracy on test set:0.77\n"
     ]
    }
   ],
   "source": [
    "#SVM要求所有的特征要在相似的度量范围内变化。我们需要重新调整各特征值尺度使其基本上在同一量表上。\n",
    "#从这个结果中，我们可以看到数据的度量标准化后效果大不同！现在我们的模型在训练集和测试集的结果非常相似，\n",
    "#这其实是有一点过低拟合的，但总体而言还是更接近100%准确度的。\n",
    "#这样来看，我们还可以试着提高C值或者gamma值来配适更复杂的模型。\n",
    "from sklearn. preprocessing import MinMaxScaler \n",
    "scaler=MinMaxScaler()\n",
    "x_train_scaled=scaler. fit_transform(x_train)\n",
    "x_test_scaled=scaler. fit_transform(x_test)\n",
    "svc=SVC()\n",
    "svc. fit(x_train_scaled,y_train)\n",
    "print(\"Accuracy on training set:{:.2f}\". format(svc. score(x_train_scaled,y_train)))\n",
    "print(\"Accuracy on test set:{:.2f}\". format(svc. score(x_test_scaled, y_test)))"
   ]
  },
  {
   "cell_type": "code",
   "execution_count": 55,
   "metadata": {},
   "outputs": [
    {
     "name": "stdout",
     "output_type": "stream",
     "text": [
      "Accuracy on training set:0.790\n",
      "Accuracy on test set:0.797\n"
     ]
    }
   ],
   "source": [
    "#从这个结果中我们可以看到，提高了C值后，模型效果确实有一定提升，测试集准确度提至79.7%。\n",
    "svc=SVC(C=1000)\n",
    "svc. fit(x_train_scaled,y_train)\n",
    "print(\"Accuracy on training set:{:.3f}\". format(\n",
    "svc. score(x_train_scaled,y_train)))\n",
    "print(\"Accuracy on test set:{:.3f}\". format(svc. score(x_test_scaled, y_test)))"
   ]
  },
  {
   "cell_type": "code",
   "execution_count": 56,
   "metadata": {},
   "outputs": [
    {
     "name": "stdout",
     "output_type": "stream",
     "text": [
      "Accuracy on training set:0.71\n",
      "Accuracy on test set:0.67\n"
     ]
    }
   ],
   "source": [
    "#接下来使用深度学习算法\n",
    "#从结果中我们可以看到，多层神经网络（MLP）的预测准确度并不如其他模型表现的好，这可能是数据的尺度不同造成的。\n",
    "\n",
    "from sklearn. neural_network import MLPClassifier \n",
    "mlp=MLPClassifier(random_state=42)\n",
    "mlp. fit(x_train,y_train)\n",
    "print(\"Accuracy on training set:{:.2f}\". format(mlp. score(x_train, y_train)))\n",
    "print(\"Accuracy on test set:{:.2f}\". format(mlp. score(x_test, y_test)))\n",
    "\n",
    "\n"
   ]
  },
  {
   "cell_type": "code",
   "execution_count": 58,
   "metadata": {},
   "outputs": [
    {
     "name": "stdout",
     "output_type": "stream",
     "text": [
      "Accuracy on training set:0.823\n",
      "Accuracy on test set:0.802\n"
     ]
    },
    {
     "name": "stderr",
     "output_type": "stream",
     "text": [
      "e:\\Anaconda2\\envs\\py3\\lib\\site-packages\\sklearn\\neural_network\\multilayer_perceptron.py:564: ConvergenceWarning: Stochastic Optimizer: Maximum iterations (200) reached and the optimization hasn't converged yet.\n",
      "  % self.max_iter, ConvergenceWarning)\n"
     ]
    }
   ],
   "source": [
    "#深度学习算法同样也希望所有输入的特征在同一尺度范围内变化。\n",
    "#理想情况下，是均值为0，方差为1。所以，我们必须重新标准化我们的数据，以便能够满足这些需求。\n",
    "from sklearn. preprocessing import StandardScaler \n",
    "scaler=StandardScaler()\n",
    "x_train_scaled=scaler. fit_transform(x_train)\n",
    "x_test_scaled=scaler. fit_transform(x_test)\n",
    "mlp=MLPClassifier(random_state=0)\n",
    "mlp. fit(x_train_scaled,y_train)\n",
    "print(\"Accuracy on training set:{:.3f}\". format(\n",
    "mlp. score(x_train_scaled,y_train)))\n",
    "print(\"Accuracy on test set:{:.3f}\". format(mlp. score(x_test_scaled, y_test)))\n",
    "\n"
   ]
  },
  {
   "cell_type": "code",
   "execution_count": 59,
   "metadata": {},
   "outputs": [
    {
     "name": "stdout",
     "output_type": "stream",
     "text": [
      "Accuracy on training set:0.877\n",
      "Accuracy on test set:0.755\n"
     ]
    }
   ],
   "source": [
    "#增加迭代次数：\n",
    "#从结果可以发现，增加迭代次数仅仅提升了训练集的性能，而对测试集没有效果。\n",
    "mlp=MLPClassifier(max_iter=1000, random_state=0)\n",
    "mlp. fit(x_train_scaled,y_train)\n",
    "print(\"Accuracy on training set:{:.3f}\". format(\n",
    "mlp. score(x_train_scaled,y_train)))\n",
    "print(\"Accuracy on test set:{:.3f}\". format(mlp. score(x_test_scaled, y_test)))"
   ]
  },
  {
   "cell_type": "code",
   "execution_count": null,
   "metadata": {},
   "outputs": [],
   "source": [
    "#使用调高alpha参数并且加强权重的正则化的方法。\n",
    "#从运行结果来看，这个结果是好的，但我们无法更进一步提升测试集准确度。\n",
    "mlp=MLPCLassifier(max_iter=1000, alpha=1, random_state=0)\n",
    "mlp. fit(X_train_scaled,y_train)\n",
    "print(\"Accuracy on training set:{:.3f}\". format(\n",
    "mlp. score(x_train_scaled,y_train)))\n",
    "print(\"Accuracy on test set:{:.3f}\". format(mlp. score(x_test_scaled, y_test)))\n"
   ]
  },
  {
   "cell_type": "markdown",
   "metadata": {},
   "source": [
    "结论：因此，到目前为止我们最好的模型是在数据标准化后的默认参数深度学习模型。"
   ]
  },
  {
   "cell_type": "code",
   "execution_count": 65,
   "metadata": {},
   "outputs": [
    {
     "data": {
      "text/plain": [
       "<matplotlib.colorbar.Colorbar at 0xb31e2e8>"
      ]
     },
     "execution_count": 65,
     "metadata": {},
     "output_type": "execute_result"
    },
    {
     "data": {
      "image/png": "[encoded data removed]",
      "text/plain": [
       "<Figure size 1440x360 with 2 Axes>"
      ]
     },
     "metadata": {},
     "output_type": "display_data"
    }
   ],
   "source": [
    "#最后，我们绘制了一个在糖尿病数据集上学习的神经网络的第一层权重热图。\n",
    "#从这个热度图中，快速指出哪个或哪些特征的权重较高或较低是不容易的。\n",
    "plt. figure(figsize=(20,5))\n",
    "#plt. imshow(mlp.coefs_[0], interpolation=' none', cmap='viridis')\n",
    "plt.imshow(mlp.coefs_[0],interpolation='none',cmap='viridis')\n",
    "plt. yticks(range(8), diabetes_features)\n",
    "plt. xlabel(\"Columns in weight matrix\")\n",
    "plt. ylabel(\"Input feature\")\n",
    "plt. colorbar()"
   ]
  },
  {
   "cell_type": "code",
   "execution_count": null,
   "metadata": {},
   "outputs": [],
   "source": []
  }
 ],
 "metadata": {
  "kernelspec": {
   "display_name": "Python 3",
   "language": "python",
   "name": "python3"
  },
  "language_info": {
   "codemirror_mode": {
    "name": "ipython",
    "version": 3
   },
   "file_extension": ".py",
   "mimetype": "text/x-python",
   "name": "python",
   "nbconvert_exporter": "python",
   "pygments_lexer": "ipython3",
   "version": "3.6.6"
  }
 },
 "nbformat": 4,
 "nbformat_minor": 2
}
